{
 "cells": [
  {
   "cell_type": "code",
   "execution_count": 1,
   "metadata": {
    "collapsed": true
   },
   "outputs": [],
   "source": [
    "# 2 dimensional Nearly Constant Velocity Model\n",
    "# Nonlinear observation scheme measuring range and elevation.\n",
    "# CD-EKF in Case 2.\n",
    "# 10 June 2016"
   ]
  },
  {
   "cell_type": "code",
   "execution_count": 2,
   "metadata": {
    "collapsed": true
   },
   "outputs": [],
   "source": [
    "# Import the required libraries\n",
    "import numpy as np\n",
    "import math\n",
    "from numpy import linalg\n",
    "import scipy.linalg\n",
    "from numpy.random import randn\n",
    "import matplotlib.pyplot as plt\n",
    "%matplotlib inline"
   ]
  },
  {
   "cell_type": "code",
   "execution_count": 3,
   "metadata": {
    "collapsed": true
   },
   "outputs": [],
   "source": [
    "# Define variables for the simulation\n",
    "dt = 0.1 ; #[s]\n",
    "t = np.arange(0,40,dt,dtype=float) # [s]"
   ]
  },
  {
   "cell_type": "code",
   "execution_count": 4,
   "metadata": {
    "collapsed": true
   },
   "outputs": [],
   "source": [
    "dimensionality = 2; # 2 dimensional problem\n",
    "nStates = 2; # 2 states per dimension. position,velocity and acceleration\n",
    "nVars = nStates*dimensionality; \n",
    "x_state = np.zeros([nVars,len(t)],dtype=float);\n",
    "\n",
    "def fn_Generate_STM_polynom(zeta,nStates):\n",
    "    # fn_Generate_STM_polynom creates the state transition matrix for polynomial models \n",
    "    # of degree (nStates-1) over a span of transition of zeta [s].\n",
    "    # Polynomial models are a subset of the class of constant-coefficient linear DEs.\n",
    "    # Refer to: Tracking Filter Engineering, Norman Morrison.\n",
    "    stm = np.eye(nStates,dtype=float);\n",
    "    for yindex in range (0,nStates):\n",
    "        for xindex in range (yindex,nStates): # STM is upper triangular\n",
    "            stm[yindex,xindex] = np.power(zeta,xindex-yindex)/float(math.factorial(xindex-yindex));\n",
    "    return stm;     \n",
    "\n",
    "def fn_Generate_STM_polynom_2D(zeta,nStates,dimensionality):\n",
    "    # fn_Generate_STM_polynom_2D generates the full state transition matrix for \n",
    "    # the required dimensionality.\n",
    "    stm = fn_Generate_STM_polynom(dt,nStates);\n",
    "    stm2 = fn_Create_Concatenated_Block_Diag_Matrix(stm,dimensionality-1);\n",
    "    return stm2;\n",
    "\n",
    "def fn_Create_Concatenated_Block_Diag_Matrix(R,stacklen):\n",
    "    # fn_Create_Concatenated_Block_Diag_Matrix creates a block diagonal matrix of size (stacklen) x (stacklen)\n",
    "    # whose diagonal blocks are copies of the matrix R.\n",
    "    L = [R]; \n",
    "    for index in range (0,stacklen):\n",
    "        L.append(R);\n",
    "        ryn = scipy.linalg.block_diag(*L);\n",
    "    return ryn;"
   ]
  },
  {
   "cell_type": "code",
   "execution_count": 5,
   "metadata": {
    "collapsed": true
   },
   "outputs": [],
   "source": [
    "def fnH(X):\n",
    "    # Nonlinear measurement function\n",
    "    # Sensor measures range and angle.\n",
    "    Y = np.zeros([2],dtype=float);\n",
    "    Y[0] = np.linalg.norm(X); # range\n",
    "    Y[1] = np.arctan2(X[1],X[0]); # angle\n",
    "    return Y\n",
    "\n",
    "def fnJacobianH(X):\n",
    "    # Jacobian of nonlinear measurement function fnH\n",
    "    Y = fnH(X);\n",
    "    dy = np.zeros([2,2],dtype=float);\n",
    "    dy[0,0] = X[0]/Y[0];\n",
    "    dy[0,1] =  X[1]/Y[1];\n",
    "    dy[1,0] = -X[1]/Y[0]**2;\n",
    "    dy[1,1] = X[0]/Y[0]**2;\n",
    "    return dy"
   ]
  },
  {
   "cell_type": "code",
   "execution_count": 6,
   "metadata": {
    "collapsed": false
   },
   "outputs": [],
   "source": [
    "# Initialize  state vector\n",
    "x_state[:,0] = np.array([1,1.2,2,1.2],dtype=float); # x pos, x vel, y pos, y vel\n",
    "# Find continuous-time process covariance matrix, then discretize it.\n",
    "qtilde = 0.001*x_state[3,0]/np.sqrt(dt); # Choice of process noise intensity.\n",
    "Qc01 = np.power(dt,3)/3;\n",
    "Qc02 = np.square(dt)/2;\n",
    "Qc = np.array([[Qc01,Qc02],[Qc02,dt]],dtype=float);\n",
    "Qd = Qc*np.square(qtilde);\n",
    "Qd2 = fn_Create_Concatenated_Block_Diag_Matrix(Qd,dimensionality-1);\n",
    "\n",
    "# Measurement noise covariance matrix\n",
    "R = np.diag([np.square(0.1),np.square(0.01)]); \n",
    "y_meas = np.zeros([2,len(t)],dtype=float); # measurement vector.\n",
    "\n",
    "# Initial estimate of state vector\n",
    "m0 = x_state[:,0] + np.random.multivariate_normal([0,0,0,0],Qd2);\n",
    "P0 = np.diag([100.0,10.0,100.0,10]);  # Initial covariance matrix estimate, indicating high uncertainty.  \n",
    "pos = np.array([m0[0],m0[2]],dtype=float);\n",
    "y_meas[:,0] = fnH(pos); # initialize measurement vector.\n",
    "stm2 = fn_Generate_STM_polynom_2D(dt,nStates,dimensionality);\n",
    "\n",
    "for index in range (1,len(t)):\n",
    "    wn = np.random.multivariate_normal([0,0,0,0],Qd2);\n",
    "    x_state[:,index] = np.dot( stm2,x_state[:,index-1] ) + wn;\n",
    "    # sensor measurements are contaminated with awgn of covariane R.\n",
    "    vn = np.random.multivariate_normal([0,0],R);\n",
    "    pos = np.array([x_state[0,index],x_state[2,index]],dtype=float);\n",
    "    y_meas[:,index] = fnH(pos) + vn;\n",
    "    "
   ]
  },
  {
   "cell_type": "code",
   "execution_count": 7,
   "metadata": {
    "collapsed": false
   },
   "outputs": [
    {
     "data": {
      "image/png": "[encoded data removed]",
      "text/plain": [
       "<matplotlib.figure.Figure at 0x7737518>"
      ]
     },
     "metadata": {},
     "output_type": "display_data"
    }
   ],
   "source": [
    "fig = plt.figure()\n",
    "plt.plot(x_state[0,:],x_state[2,:],'b.')\n",
    "plt.ylabel('y position in [m]')\n",
    "plt.xlabel('x position in [m]')\n",
    "plt.show()"
   ]
  },
  {
   "cell_type": "code",
   "execution_count": 8,
   "metadata": {
    "collapsed": true
   },
   "outputs": [],
   "source": [
    "## extended Kalman filter functions ###########################################\n",
    "def fnEKF_predict( F,A, m, P, Q):\n",
    "    # fnKF_predict implements the extended Kalman Filter predict step.\n",
    "    # F is the nonlinear dynamics function.\n",
    "    # A is the Jacobian of the function F evaluated at m.\n",
    "    # m is the mean, P is the covariance matrix.\n",
    "    # process noise: Q matrix\n",
    "    m_pred = np.dot(F,m);\n",
    "    P_pred = np.add(np.dot(np.dot(A,P),np.transpose(A)),Q);\n",
    "    # m_pred and P_pred are the predicted mean state vector and covariance\n",
    "    # matrix at the current time step before seeing the measurement.\n",
    "    return m_pred, P_pred\n",
    "\n",
    "def fnEKF_update(m_minus, P_minus, y,H,M, R ):\n",
    "    # m_minus,P_minus: state vector and covariance matrix\n",
    "    # y is the measurement vector. H is the nonlinear measurement function and\n",
    "    # M is its Jacobian. R is the measurement covariance matrix.\n",
    "    innovation_mean = H;\n",
    "    prediction_covariance = np.add(R ,np.dot(M,np.dot(P_minus,np.transpose(M))));\n",
    "    KalmanGain = np.dot(np.dot(P_minus,np.transpose(M)),np.linalg.inv(prediction_covariance));\n",
    "\n",
    "    # Calculate estimated mean state vector and its covariance matrix.\n",
    "    m = m_minus + np.dot(KalmanGain , (y - innovation_mean));\n",
    "    \n",
    "    P = np.subtract(P_minus,np.dot(np.dot(KalmanGain,prediction_covariance),np.transpose(KalmanGain)));\n",
    "    return m,P"
   ]
  },
  {
   "cell_type": "code",
   "execution_count": 9,
   "metadata": {
    "collapsed": false
   },
   "outputs": [],
   "source": [
    "## Filter the sensor data  ###################################################\n",
    "x_state_hat = np.zeros([4,len(t)],dtype=float)\n",
    "x_state_hat[:,0] = m0;\n",
    "P_hat = np.zeros([4,4,len(t)],dtype=float);\n",
    "P_hat[:,:,0] = P0;\n",
    "\n",
    "A = np.zeros([4,4],dtype=float);\n",
    "A[0,1] =1.0; A[1,3] = 1.0;\n",
    "\n",
    "for index in range (1,x_state_hat.shape[1]-1):\n",
    "    m_pred,P_pred = fnEKF_predict( stm2,stm2,x_state_hat[:,index-1], P_hat[:,:,index-1], Qd2);\n",
    "    pos = np.array([m_pred[0],m_pred[2]],dtype=float);\n",
    "    Htilde = fnJacobianH(pos);\n",
    "    H = np.zeros([2,4],dtype=float);\n",
    "    H[:,0] = Htilde[:,0]; H[:,2] =Htilde[:,1];\n",
    "    x_state_hat[:,index],P_hat[:,:,index] = fnEKF_update(m_pred, P_pred, y_meas[:,index],fnH(pos),H, R );"
   ]
  },
  {
   "cell_type": "code",
   "execution_count": 10,
   "metadata": {
    "collapsed": false
   },
   "outputs": [
    {
     "data": {
      "image/png": "[encoded data removed]",
      "text/plain": [
       "<matplotlib.figure.Figure at 0x79dbd68>"
      ]
     },
     "metadata": {},
     "output_type": "display_data"
    }
   ],
   "source": [
    "fig = plt.figure()\n",
    "plt.plot(t,x_state[0,:],'b.')\n",
    "plt.plot(t,x_state_hat[0,:],'ro')\n",
    "plt.ylabel('x position in [m]')\n",
    "plt.xlabel('t')\n",
    "plt.show()"
   ]
  },
  {
   "cell_type": "code",
   "execution_count": 11,
   "metadata": {
    "collapsed": false
   },
   "outputs": [
    {
     "data": {
      "image/png": "[encoded data removed]",
      "text/plain": [
       "<matplotlib.figure.Figure at 0x7ab0d68>"
      ]
     },
     "metadata": {},
     "output_type": "display_data"
    }
   ],
   "source": [
    "fig = plt.figure()\n",
    "plt.plot(t,x_state[2,:],'b.')\n",
    "plt.plot(t,x_state_hat[2,:],'ro')\n",
    "plt.ylabel('y position in [m]')\n",
    "plt.xlabel('t')\n",
    "plt.show()"
   ]
  },
  {
   "cell_type": "code",
   "execution_count": 12,
   "metadata": {
    "collapsed": false
   },
   "outputs": [
    {
     "data": {
      "image/png": "[encoded data removed]",
      "text/plain": [
       "<matplotlib.figure.Figure at 0x7bd4748>"
      ]
     },
     "metadata": {},
     "output_type": "display_data"
    }
   ],
   "source": [
    "fig = plt.figure()\n",
    "plt.plot(t,x_state[1,:],'b.')\n",
    "plt.plot(t,x_state_hat[1,:],'ro')\n",
    "plt.ylabel('x vel')\n",
    "plt.xlabel('t')\n",
    "plt.show()"
   ]
  },
  {
   "cell_type": "code",
   "execution_count": 13,
   "metadata": {
    "collapsed": false
   },
   "outputs": [
    {
     "data": {
      "image/png": "[encoded data removed]",
      "text/plain": [
       "<matplotlib.figure.Figure at 0x7d76fd0>"
      ]
     },
     "metadata": {},
     "output_type": "display_data"
    }
   ],
   "source": [
    "fig = plt.figure()\n",
    "plt.plot(t,x_state[3,:],'b.')\n",
    "plt.plot(t,x_state_hat[3,:],'ro')\n",
    "plt.ylabel('y vel')\n",
    "plt.xlabel('t')\n",
    "plt.show()"
   ]
  },
  {
   "cell_type": "code",
   "execution_count": 14,
   "metadata": {
    "collapsed": false
   },
   "outputs": [
    {
     "name": "stdout",
     "output_type": "stream",
     "text": [
      "1.15263709945\n"
     ]
    }
   ],
   "source": [
    "## Compute the RMS Error ######################################################\n",
    "epsilon = np.zeros_like(y_meas,dtype=float);\n",
    "squared_error = np.zeros_like(t,dtype=float);\n",
    "Rinv = np.linalg.inv(R);\n",
    "for index in range (0,x_state_hat.shape[1]-1):\n",
    "    pos = np.array([x_state_hat[0,index],x_state_hat[2,index]],dtype=float);\n",
    "    epsilon[:,index] = np.subtract(y_meas[:,index],fnH(pos));\n",
    "    squared_error[index] = np.dot(np.dot(np.transpose(epsilon[:,index]),Rinv),epsilon[:,index]);\n",
    "mse = np.sum(squared_error)/float(np.shape(epsilon)[0]*np.shape(squared_error)[0]);\n",
    "rmse = math.sqrt(mse);\n",
    "print rmse"
   ]
  },
  {
   "cell_type": "code",
   "execution_count": null,
   "metadata": {
    "collapsed": true
   },
   "outputs": [],
   "source": []
  }
 ],
 "metadata": {
  "kernelspec": {
   "display_name": "Python 2",
   "language": "python",
   "name": "python2"
  },
  "language_info": {
   "codemirror_mode": {
    "name": "ipython",
    "version": 2
   },
   "file_extension": ".py",
   "mimetype": "text/x-python",
   "name": "python",
   "nbconvert_exporter": "python",
   "pygments_lexer": "ipython2",
   "version": "2.7.11"
  }
 },
 "nbformat": 4,
 "nbformat_minor": 0
}
