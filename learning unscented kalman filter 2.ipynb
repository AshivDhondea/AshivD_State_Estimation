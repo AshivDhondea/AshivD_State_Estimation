{
 "cells": [
  {
   "cell_type": "code",
   "execution_count": 1,
   "metadata": {
    "collapsed": true
   },
   "outputs": [],
   "source": [
    "# Started 8 June 2016\n",
    "# Based on learning unscented kalman filter\n",
    "# Import the required libraries \n",
    "import numpy as np\n",
    "#from numpy import linalg\n",
    "import scipy.linalg\n",
    "#from numpy.random import randn\n",
    "import matplotlib.pyplot as plt"
   ]
  },
  {
   "cell_type": "code",
   "execution_count": 2,
   "metadata": {
    "collapsed": true
   },
   "outputs": [],
   "source": [
    "# Validated 8 June 2016\n",
    "def fnCreateConcatenatedRmat(R,Rinv,stacklen):\n",
    "    L = [R]; Linv = [Rinv];\n",
    "    for index in range (0,stacklen):\n",
    "        L.append(R);\n",
    "        Linv.append(Rinv);\n",
    "    ryn = scipy.linalg.block_diag(*L);\n",
    "    ryninv = scipy.linalg.block_diag(*Linv);\n",
    "    return ryn,ryninv;"
   ]
  },
  {
   "cell_type": "code",
   "execution_count": 3,
   "metadata": {
    "collapsed": true
   },
   "outputs": [],
   "source": [
    "def fnH(X):\n",
    "    Y = np.zeros([2],dtype=float);\n",
    "    Y[0] = np.linalg.norm(X);\n",
    "    Y[1] = np.arctan2(X[1],X[0]);\n",
    "    return Y"
   ]
  },
  {
   "cell_type": "code",
   "execution_count": 4,
   "metadata": {
    "collapsed": true
   },
   "outputs": [],
   "source": [
    "def fnUT_sigmas(X,P,params_vec):\n",
    "    # Implementation of ut_sigmas.m of the ekfukf toolbox\n",
    "    A = np.linalg.cholesky(P);\n",
    "    n = params_vec[3]; kappa = params_vec[2];\n",
    "    sigmas = np.vstack((np.zeros_like(X),A ,-A) );\n",
    "    c  = n + kappa;\n",
    "    sigmas = np.sqrt(c)*sigmas;\n",
    "    sigmas  = np.add(sigmas,np.tile(X,(2*n+1,1)));\n",
    "    return sigmas"
   ]
  },
  {
   "cell_type": "code",
   "execution_count": 5,
   "metadata": {
    "collapsed": false
   },
   "outputs": [
    {
     "name": "stdout",
     "output_type": "stream",
     "text": [
      "[[ 1.          2.        ]\n",
      " [ 6.29150262  2.        ]\n",
      " [ 1.          7.91607978]\n",
      " [-4.29150262  2.        ]\n",
      " [ 1.         -3.91607978]]\n"
     ]
    }
   ],
   "source": [
    "alpha =1;\n",
    "beta =2;\n",
    "kappa = 5;\n",
    "n =2;\n",
    "params_vec =np.array([alpha,beta,kappa,n],dtype=int);\n",
    "M = np.array([1.,2.]); P = np.diag([4.,5.]);\n",
    "\n",
    "sigmax = fnUT_sigmas(M ,P,params_vec)\n",
    "print sigmax\n",
    "# Validated: matches with the results from ut_sigmas.m of the ekfukf toolbox."
   ]
  },
  {
   "cell_type": "code",
   "execution_count": 6,
   "metadata": {
    "collapsed": true
   },
   "outputs": [],
   "source": [
    "def fnUT_weights(params):\n",
    "    # X - state vector\n",
    "    # P - covariance matrix\n",
    "    # params_vec = [alpha,beta,kappa,n]\n",
    "    # emulates ut_weights.m of the ekfukftoolbox\n",
    "    alpha = float(params[0]); \n",
    "    beta = float(params[1]);\n",
    "    kappa = float(params[2]); \n",
    "    n = params[3];\n",
    "    lambd = np.square(alpha) * (float(n) + kappa) - float(n);\n",
    "    Weights_Mean = np.zeros((2*n+1),dtype=float);\n",
    "    Weights_Cov = np.zeros((2*n+1),dtype=float);\n",
    "    Weights_Mean[0] = lambd/(float(n)+lambd);\n",
    "    Weights_Cov[0] = lambd/(float(n)+lambd) + (1-np.square(alpha) + beta);\n",
    "    for index in range(1,2*n+1):\n",
    "        Weights_Mean[index] = 1 / (2 * (float(n) + lambd));\n",
    "        Weights_Cov[index] = Weights_Mean[index];\n",
    "    return Weights_Mean,Weights_Cov"
   ]
  },
  {
   "cell_type": "code",
   "execution_count": 7,
   "metadata": {
    "collapsed": false
   },
   "outputs": [
    {
     "name": "stdout",
     "output_type": "stream",
     "text": [
      "[ 0.71428571  0.07142857  0.07142857  0.07142857  0.07142857]\n",
      "[ 2.71428571  0.07142857  0.07142857  0.07142857  0.07142857]\n"
     ]
    }
   ],
   "source": [
    "Weights_Mean, Weights_Cov =  fnUT_weights(params_vec)\n",
    "print Weights_Mean\n",
    "print Weights_Cov\n",
    "# Validated fnUT_weights"
   ]
  },
  {
   "cell_type": "code",
   "execution_count": 10,
   "metadata": {
    "collapsed": false
   },
   "outputs": [],
   "source": [
    "def fnUT_transform(M,P,fnG,params):\n",
    "    # emulates ut_transform.m of the ekfukftoolbox.\n",
    "    # M - mean state vector\n",
    "    # P - corresponding covariance matrix\n",
    "    # fnG - nonlinear measurement function\n",
    "    # params - vector of parameters for the unscented transform.\n",
    "    \n",
    "    # Form the sigma points of x\n",
    "    sigmas = fnUT_sigmas(M,P,params);\n",
    "    # Compute weights\n",
    "    Wm,Wc = fnUT_weights(params);  \n",
    "    \n",
    "    n = params[3];\n",
    "    # Propagate sigma points through the (non)linear model.\n",
    "    yo = fnG(sigmas[0,:]);\n",
    "    \n",
    "    Y = np.zeros([np.shape(yo)[0],2*n+1],dtype=float); # sigma points of y\n",
    "    Y[:,0] = yo;\n",
    "    mu = np.dot(Wm[0],Y[:,0]);\n",
    "    for index in range(1,2*n+1):\n",
    "        Y[:,index] = fnG(sigmas[index,:]);\n",
    "        mu += np.dot(Wm[index],Y[:,index]);\n",
    "\n",
    "    Sk  = np.zeros([np.shape(Y)[0],np.shape(Y)[0]],dtype=float);\n",
    "    Ck  = np.zeros([np.shape(Y)[0],np.shape(Y)[0]],dtype=float);\n",
    "    \n",
    "    for index in range (0,2*n+1):\n",
    "        diff = np.subtract(Y[:,index],mu);\n",
    "        produ = np.multiply.outer(diff,diff);\n",
    "        Sk = np.add(Sk,np.dot(Wc[index],produ)); \n",
    "        diff1 = np.subtract(sigmas[index,:] ,M);\n",
    "        produ1 = np.multiply.outer(diff1,diff);\n",
    "        Ck = np.add(Ck,np.dot(Wc[index],produ1));    \n",
    "    return sigmas,Wm,Wc,Y,mu,Sk,Ck"
   ]
  },
  {
   "cell_type": "code",
   "execution_count": 11,
   "metadata": {
    "collapsed": false
   },
   "outputs": [
    {
     "name": "stdout",
     "output_type": "stream",
     "text": [
      "[[ 3.          2.        ]\n",
      " [ 8.29150262  2.        ]\n",
      " [ 3.          7.91607978]\n",
      " [-2.29150262  2.        ]\n",
      " [ 3.         -3.91607978]]\n"
     ]
    }
   ],
   "source": [
    "M = np.array([3,2],dtype=float) \n",
    "[sigmas,Wm,Wc,Y,mu,Sk,Ck] = fnUT_transform(M,P,fnH,params_vec);\n",
    "print sigmas"
   ]
  },
  {
   "cell_type": "code",
   "execution_count": 12,
   "metadata": {
    "collapsed": false
   },
   "outputs": [
    {
     "name": "stdout",
     "output_type": "stream",
     "text": [
      "[[ 3.60555128  8.52930336  8.46547808  3.04154307  4.9331208 ]\n",
      " [ 0.5880026   0.23668952  1.20854488  2.42401585 -0.91708809]]\n"
     ]
    }
   ],
   "source": [
    "print Y"
   ]
  },
  {
   "cell_type": "code",
   "execution_count": 13,
   "metadata": {
    "collapsed": false
   },
   "outputs": [
    {
     "name": "stdout",
     "output_type": "stream",
     "text": [
      "[ 4.35892558  0.63087059]\n",
      "[[ 4.13491349 -0.0925349 ]\n",
      " [-0.0925349   0.44074739]]\n",
      "[[ 2.07417842 -0.82673164]\n",
      " [ 1.49269339  0.89824387]]\n"
     ]
    }
   ],
   "source": [
    "print mu\n",
    "print Sk\n",
    "print Ck"
   ]
  },
  {
   "cell_type": "code",
   "execution_count": null,
   "metadata": {
    "collapsed": true
   },
   "outputs": [],
   "source": [
    "# Validated 8 June 2016\n",
    "# Results match with testfunctionsforpython.m used to verify the ekfukf toolbox"
   ]
  }
 ],
 "metadata": {
  "kernelspec": {
   "display_name": "Python 2",
   "language": "python",
   "name": "python2"
  },
  "language_info": {
   "codemirror_mode": {
    "name": "ipython",
    "version": 2
   },
   "file_extension": ".py",
   "mimetype": "text/x-python",
   "name": "python",
   "nbconvert_exporter": "python",
   "pygments_lexer": "ipython2",
   "version": "2.7.11"
  }
 },
 "nbformat": 4,
 "nbformat_minor": 0
}
